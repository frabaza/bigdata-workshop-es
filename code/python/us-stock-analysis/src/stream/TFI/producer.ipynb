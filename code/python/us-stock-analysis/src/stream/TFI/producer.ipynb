{
 "cells": [
  {
   "cell_type": "code",
   "execution_count": 181,
   "metadata": {},
   "outputs": [],
   "source": [
    "from time import sleep\n",
    "import pandas as pd\n",
    "from datetime import datetime\n",
    "import json\n",
    "import sys\n",
    "import numpy as np"
   ]
  },
  {
   "cell_type": "code",
   "execution_count": 182,
   "metadata": {},
   "outputs": [],
   "source": [
    "unit_concern = pd.read_csv(\"datasets/unit_concern.csv\", encoding='latin-1')\n",
    "unit_concern = unit_concern.fillna(0)\n",
    "\n",
    "unit_collection_point = pd.read_csv(\"datasets/unit_collection_point.csv\", encoding='latin-1')\n",
    "unit_collection_point = unit_collection_point.fillna(0)\n",
    "#json does not accept numpy data types, need to change from them to python data types..."
   ]
  },
  {
   "cell_type": "code",
   "execution_count": 183,
   "metadata": {},
   "outputs": [],
   "source": [
    "# le cambio el nombre para escribir menos\n",
    "uc = unit_concern\n",
    "ucp = unit_collection_point"
   ]
  },
  {
   "cell_type": "code",
   "execution_count": 184,
   "metadata": {},
   "outputs": [],
   "source": [
    "convert_dict_unitconcern = {\n",
    "            'qls_unit_id':int,\n",
    "            # 'unit_collection_pt_timestamp':datetime,\n",
    "            'collection_point_id':int,\n",
    "            'concern_id':int,\n",
    "            'zone_charged_id':int,\n",
    "            }\n",
    "\n",
    "convert_dict_unitcollection = {\n",
    "            'qls_unit_id':int,\n",
    "            # 'unit_collection_pt_timestamp':datetime,\n",
    "            'collection_point_id':int,\n",
    "            'zone_id':int,\n",
    "            }\n",
    "\n",
    "# unit_concern = unit_concern.astype(convert_dict_unitconcern)\n",
    "\n",
    "\n",
    "################################################\n",
    "#creo funcion convert para convertir a int los numpy"
   ]
  },
  {
   "cell_type": "code",
   "execution_count": 185,
   "metadata": {},
   "outputs": [],
   "source": [
    "#encoder => numpy types are not json serializable\n",
    "\n",
    "def convert(o):\n",
    "    if isinstance(o, np.int64): return int(o)\n",
    "    elif isinstance(o, np.int32): return int(o)\n",
    "    elif isinstance(o, np.datetime64): return datetime(o)\n",
    "    elif isinstance(o, np.integer): return float(o)\n",
    "    elif isinstance(o, np.ndarray): return o.tolist()\n",
    "    "
   ]
  },
  {
   "cell_type": "code",
   "execution_count": 186,
   "metadata": {},
   "outputs": [],
   "source": [
    "columns_uc = list(uc)\n",
    "columns_ucp = list(ucp)"
   ]
  },
  {
   "cell_type": "code",
   "execution_count": 187,
   "metadata": {},
   "outputs": [],
   "source": [
    "dfuc = pd.DataFrame({'key':'unit_concern','timestamp':uc['unit_collection_pt_timestamp'],'idx':range(0, len(uc))})\n",
    "dfucp = pd.DataFrame({'key':'unit_collection_point','timestamp':ucp['unit_collection_pt_timestamp'],'idx':range(0, len(ucp))})\n",
    "df=pd.concat([dfuc,dfucp])\n",
    "df.sort_values(by=['timestamp'], inplace=True)\n",
    "df = df.reset_index(drop=True)"
   ]
  },
  {
   "cell_type": "code",
   "execution_count": 188,
   "metadata": {},
   "outputs": [
    {
     "output_type": "execute_result",
     "data": {
      "text/plain": "                     key              timestamp   idx\n0  unit_collection_point  2020-05-27 07:51:11.0  4502\n1  unit_collection_point  2020-05-27 07:52:35.0  2642\n2  unit_collection_point  2020-05-27 07:53:31.0  3383\n3  unit_collection_point  2020-05-27 07:54:57.0  3384\n4  unit_collection_point  2020-05-27 07:57:40.0   393",
      "text/html": "<div>\n<style scoped>\n    .dataframe tbody tr th:only-of-type {\n        vertical-align: middle;\n    }\n\n    .dataframe tbody tr th {\n        vertical-align: top;\n    }\n\n    .dataframe thead th {\n        text-align: right;\n    }\n</style>\n<table border=\"1\" class=\"dataframe\">\n  <thead>\n    <tr style=\"text-align: right;\">\n      <th></th>\n      <th>key</th>\n      <th>timestamp</th>\n      <th>idx</th>\n    </tr>\n  </thead>\n  <tbody>\n    <tr>\n      <th>0</th>\n      <td>unit_collection_point</td>\n      <td>2020-05-27 07:51:11.0</td>\n      <td>4502</td>\n    </tr>\n    <tr>\n      <th>1</th>\n      <td>unit_collection_point</td>\n      <td>2020-05-27 07:52:35.0</td>\n      <td>2642</td>\n    </tr>\n    <tr>\n      <th>2</th>\n      <td>unit_collection_point</td>\n      <td>2020-05-27 07:53:31.0</td>\n      <td>3383</td>\n    </tr>\n    <tr>\n      <th>3</th>\n      <td>unit_collection_point</td>\n      <td>2020-05-27 07:54:57.0</td>\n      <td>3384</td>\n    </tr>\n    <tr>\n      <th>4</th>\n      <td>unit_collection_point</td>\n      <td>2020-05-27 07:57:40.0</td>\n      <td>393</td>\n    </tr>\n  </tbody>\n</table>\n</div>"
     },
     "metadata": {},
     "execution_count": 188
    }
   ],
   "source": [
    "df.head()"
   ]
  },
  {
   "cell_type": "code",
   "execution_count": 191,
   "metadata": {},
   "outputs": [
    {
     "output_type": "stream",
     "name": "stdout",
     "text": "{'qls_unit_id': 98724320, 'unit_collection_pt_timestamp': '2020-05-27 07:51:11.0', 'collection_point_id': 60, 'zone_id': 5}\n{'qls_unit_id': 98665320, 'unit_collection_pt_timestamp': '2020-05-27 07:52:35.0', 'collection_point_id': 25, 'zone_id': 10}\n{'qls_unit_id': 98723120, 'unit_collection_pt_timestamp': '2020-05-27 07:53:31.0', 'collection_point_id': 60, 'zone_id': 5}\n{'qls_unit_id': 98724520, 'unit_collection_pt_timestamp': '2020-05-27 07:54:57.0', 'collection_point_id': 60, 'zone_id': 5}\n{'qls_unit_id': 98643020, 'unit_collection_pt_timestamp': '2020-05-27 07:57:40.0', 'collection_point_id': 69, 'zone_id': 54}\n{'qls_unit_id': 98645120, 'unit_collection_pt_timestamp': '2020-05-27 07:57:42.0', 'collection_point_id': 69, 'zone_id': 54}\n{'qls_unit_id': 98696520, 'unit_collection_pt_timestamp': '2020-05-27 07:57:45.0', 'collection_point_id': 69, 'zone_id': 54}\n{'qls_unit_id': 98662020, 'unit_collection_pt_timestamp': '2020-05-27 07:57:46.0', 'collection_point_id': 69, 'zone_id': 54}\n{'qls_unit_id': 98696720, 'unit_collection_pt_timestamp': '2020-05-27 07:57:49.0', 'collection_point_id': 69, 'zone_id': 54}\n{'qls_unit_id': 98655420, 'unit_collection_pt_timestamp': '2020-05-27 07:58:02.0', 'collection_point_id': 69, 'zone_id': 54}\n{'qls_unit_id': 98673620, 'unit_collection_pt_timestamp': '2020-05-27 07:58:04.0', 'collection_point_id': 69, 'zone_id': 54}\n{'qls_unit_id': 98677220, 'unit_collection_pt_timestamp': '2020-05-27 07:58:08.0', 'collection_point_id': 69, 'zone_id': 54}\n{'qls_unit_id': 98679220, 'unit_collection_pt_timestamp': '2020-05-27 07:58:09.0', 'collection_point_id': 69, 'zone_id': 54}\n{'qls_unit_id': 98682820, 'unit_collection_pt_timestamp': '2020-05-27 07:58:10.0', 'collection_point_id': 69, 'zone_id': 54}\n{'qls_unit_id': 98698020, 'unit_collection_pt_timestamp': '2020-05-27 07:58:12.0', 'collection_point_id': 69, 'zone_id': 54}\n{'qls_unit_id': 98695920, 'unit_collection_pt_timestamp': '2020-05-27 07:58:13.0', 'collection_point_id': 69, 'zone_id': 54}\n{'qls_unit_id': 98691220, 'unit_collection_pt_timestamp': '2020-05-27 07:58:14.0', 'collection_point_id': 69, 'zone_id': 54}\n{'qls_unit_id': 98691320, 'unit_collection_pt_timestamp': '2020-05-27 08:00:03.0', 'collection_point_id': 79, 'zone_id': 73}\n{'qls_unit_id': 98688320, 'unit_collection_pt_timestamp': '2020-05-27 08:00:15.0', 'collection_point_id': 87, 'zone_id': 32}\n{'qls_unit_id': 98641220, 'unit_collection_pt_timestamp': '2020-05-27 08:00:17.0', 'collection_point_id': 104, 'zone_id': 33}\n{'qls_unit_id': 98679020, 'unit_collection_pt_timestamp': '2020-05-27 08:00:20.0', 'collection_point_id': 105, 'zone_id': 57}\n{'qls_unit_id': 98665320, 'unit_collection_pt_timestamp': '2020-05-27 08:01:32.0', 'collection_point_id': 50, 'zone_id': 42}\n{'qls_unit_id': 98688920, 'unit_collection_pt_timestamp': '2020-05-27 08:01:37.0', 'collection_point_id': 96, 'zone_id': 54}\n{'qls_unit_id': 98694420, 'unit_collection_pt_timestamp': '2020-05-27 08:02:14.0', 'collection_point_id': 60, 'zone_id': 5}\n{'qls_unit_id': 98670620, 'unit_collection_pt_timestamp': '2020-05-27 08:02:43.0', 'collection_point_id': 40, 'zone_id': 57}\n{'qls_unit_id': 98683620, 'unit_collection_pt_timestamp': '2020-05-27 08:03:08.0', 'collection_point_id': 114, 'zone_id': 58}\n{'qls_unit_id': 98679120, 'unit_collection_pt_timestamp': '2020-05-27 08:03:16.0', 'collection_point_id': 48, 'zone_id': 10}\n{'qls_unit_id': 98622020, 'unit_collection_pt_timestamp': '2020-05-27 08:03:19.0', 'collection_point_id': 44, 'zone_id': 9}\n{'qls_unit_id': 98622020, 'unit_collection_pt_timestamp': '2020-05-27 08:03:27.0', 'collection_point_id': 45, 'zone_id': 9}\n{'qls_unit_id': 98677220, 'unit_collection_pt_timestamp': '2020-05-27 08:04:02.0', 'collection_point_id': 85, 'zone_id': 75}\n{'qls_unit_id': 98691120, 'unit_collection_pt_timestamp': '2020-05-27 08:04:51.0', 'collection_point_id': 7, 'zone_id': 10}\n{'qls_unit_id': 98691120, 'unit_collection_pt_timestamp': '2020-05-27 08:04:53.0', 'collection_point_id': 48, 'zone_id': 10}\n{'qls_unit_id': 98688020, 'unit_collection_pt_timestamp': '2020-05-27 08:05:07.0', 'collection_point_id': 123, 'zone_id': 9}\n{'qls_unit_id': 98715120, 'unit_collection_pt_timestamp': '2020-05-27 08:05:14.0', 'collection_point_id': 60, 'zone_id': 5}\n{'qls_unit_id': 98660920, 'unit_collection_pt_timestamp': '2020-05-27 08:05:24.0', 'collection_point_id': 108, 'zone_id': 29}\n{'qls_unit_id': 98650820, 'unit_collection_pt_timestamp': '2020-05-27 08:05:37.0', 'collection_point_id': 74, 'zone_id': 33}\n{'qls_unit_id': 98665920, 'unit_collection_pt_timestamp': '2020-05-27 08:05:39.0', 'collection_point_id': 74, 'zone_id': 33}\n{'qls_unit_id': 98687220, 'unit_collection_pt_timestamp': '2020-05-27 08:05:40.0', 'collection_point_id': 130, 'zone_id': 29}\n{'qls_unit_id': 98691720, 'unit_collection_pt_timestamp': '2020-05-27 08:05:40.0', 'collection_point_id': 88, 'zone_id': 58}\n{'qls_unit_id': 98668120, 'unit_collection_pt_timestamp': '2020-05-27 08:05:47.0', 'collection_point_id': 127, 'zone_id': 73}\n{'qls_unit_id': 98635220, 'unit_collection_pt_timestamp': '2020-05-27 08:05:55.0', 'collection_point_id': 35, 'zone_id': 59}\n{'qls_unit_id': 98644420, 'unit_collection_pt_timestamp': '2020-05-27 08:06:12.0', 'collection_point_id': 25, 'zone_id': 10}\n{'qls_unit_id': 98627020, 'unit_collection_pt_timestamp': '2020-05-27 08:06:15.0', 'collection_point_id': 25, 'zone_id': 10}\n{'qls_unit_id': 98696820, 'unit_collection_pt_timestamp': '2020-05-27 08:06:17.0', 'collection_point_id': 26, 'zone_id': 11}\n{'qls_unit_id': 98696320, 'unit_collection_pt_timestamp': '2020-05-27 08:06:25.0', 'collection_point_id': 46, 'zone_id': 9}\n{'qls_unit_id': 98688020, 'unit_collection_pt_timestamp': '2020-05-27 08:06:28.0', 'collection_point_id': 46, 'zone_id': 9}\n{'qls_unit_id': 98695920, 'unit_collection_pt_timestamp': '2020-05-27 08:06:32.0', 'collection_point_id': 99, 'concern_id': 164, 'zone_charged_id': 54}\n{'qls_unit_id': 98695920, 'unit_collection_pt_timestamp': '2020-05-27 08:06:32.0', 'collection_point_id': 99, 'zone_id': 54}\n{'qls_unit_id': 98695920, 'unit_collection_pt_timestamp': '2020-05-27 08:06:35.0', 'collection_point_id': 99, 'concern_id': 164, 'zone_charged_id': 54}\n{'qls_unit_id': 98695920, 'unit_collection_pt_timestamp': '2020-05-27 08:06:35.0', 'collection_point_id': 99, 'zone_id': 54}\n{'qls_unit_id': 98695920, 'unit_collection_pt_timestamp': '2020-05-27 08:06:39.0', 'collection_point_id': 99, 'zone_id': 54}\n{'qls_unit_id': 98695920, 'unit_collection_pt_timestamp': '2020-05-27 08:06:39.0', 'collection_point_id': 99, 'concern_id': 164, 'zone_charged_id': 54}\n{'qls_unit_id': 98695920, 'unit_collection_pt_timestamp': '2020-05-27 08:06:41.0', 'collection_point_id': 99, 'zone_id': 54}\n{'qls_unit_id': 98695920, 'unit_collection_pt_timestamp': '2020-05-27 08:06:41.0', 'collection_point_id': 99, 'concern_id': 164, 'zone_charged_id': 54}\n{'qls_unit_id': 98695920, 'unit_collection_pt_timestamp': '2020-05-27 08:06:43.0', 'collection_point_id': 99, 'concern_id': 164, 'zone_charged_id': 54}\n{'qls_unit_id': 98695920, 'unit_collection_pt_timestamp': '2020-05-27 08:06:43.0', 'collection_point_id': 99, 'zone_id': 54}\n{'qls_unit_id': 98696720, 'unit_collection_pt_timestamp': '2020-05-27 08:06:47.0', 'collection_point_id': 99, 'zone_id': 54}\n{'qls_unit_id': 98723220, 'unit_collection_pt_timestamp': '2020-05-27 08:06:59.0', 'collection_point_id': 60, 'zone_id': 5}\n{'qls_unit_id': 98630620, 'unit_collection_pt_timestamp': '2020-05-27 08:07:02.0', 'collection_point_id': 44, 'zone_id': 9}\n{'qls_unit_id': 98692520, 'unit_collection_pt_timestamp': '2020-05-27 08:07:08.0', 'collection_point_id': 128, 'zone_id': 74}\n{'qls_unit_id': 98557220, 'unit_collection_pt_timestamp': '2020-05-27 08:07:28.0', 'collection_point_id': 25, 'zone_id': 10}\n{'qls_unit_id': 98679020, 'unit_collection_pt_timestamp': '2020-05-27 08:07:33.0', 'collection_point_id': 17, 'zone_id': 57}\n{'qls_unit_id': 98670220, 'unit_collection_pt_timestamp': '2020-05-27 08:07:33.0', 'collection_point_id': 114, 'zone_id': 58}\n{'qls_unit_id': 98687220, 'unit_collection_pt_timestamp': '2020-05-27 08:07:34.0', 'collection_point_id': 129, 'zone_id': 71}\n{'qls_unit_id': 98627020, 'unit_collection_pt_timestamp': '2020-05-27 08:07:37.0', 'collection_point_id': 50, 'zone_id': 42}\n{'qls_unit_id': 98660920, 'unit_collection_pt_timestamp': '2020-05-27 08:07:57.0', 'collection_point_id': 104, 'concern_id': 164, 'zone_charged_id': 33}\n{'qls_unit_id': 98660920, 'unit_collection_pt_timestamp': '2020-05-27 08:07:57.0', 'collection_point_id': 104, 'zone_id': 33}\n{'qls_unit_id': 98683720, 'unit_collection_pt_timestamp': '2020-05-27 08:08:05.0', 'collection_point_id': 83, 'zone_id': 57}\n{'qls_unit_id': 98691720, 'unit_collection_pt_timestamp': '2020-05-27 08:08:10.0', 'collection_point_id': 84, 'zone_id': 58}\n{'qls_unit_id': 98694320, 'unit_collection_pt_timestamp': '2020-05-27 08:08:33.0', 'collection_point_id': 104, 'zone_id': 33}\n{'qls_unit_id': 98694320, 'unit_collection_pt_timestamp': '2020-05-27 08:08:33.0', 'collection_point_id': 104, 'concern_id': 164, 'zone_charged_id': 33}\n{'qls_unit_id': 98679220, 'unit_collection_pt_timestamp': '2020-05-27 08:08:34.0', 'collection_point_id': 85, 'zone_id': 75}\n{'qls_unit_id': 98683620, 'unit_collection_pt_timestamp': '2020-05-27 08:08:36.0', 'collection_point_id': 123, 'zone_id': 9}\n{'qls_unit_id': 98679120, 'unit_collection_pt_timestamp': '2020-05-27 08:08:38.0', 'collection_point_id': 25, 'zone_id': 10}\n{'qls_unit_id': 98682820, 'unit_collection_pt_timestamp': '2020-05-27 08:08:40.0', 'collection_point_id': 103, 'zone_id': 75}\n{'qls_unit_id': 98671320, 'unit_collection_pt_timestamp': '2020-05-27 08:08:53.0', 'collection_point_id': 130, 'zone_id': 29}\n{'qls_unit_id': 98633120, 'unit_collection_pt_timestamp': '2020-05-27 08:08:54.0', 'collection_point_id': 43, 'zone_id': 9}\n{'qls_unit_id': 98695220, 'unit_collection_pt_timestamp': '2020-05-27 08:09:02.0', 'collection_point_id': 104, 'zone_id': 33}\n{'qls_unit_id': 98647620, 'unit_collection_pt_timestamp': '2020-05-27 08:09:05.0', 'collection_point_id': 43, 'zone_id': 9}\n{'qls_unit_id': 98647620, 'unit_collection_pt_timestamp': '2020-05-27 08:09:05.0', 'collection_point_id': 43, 'concern_id': 164, 'zone_charged_id': 74}\n{'qls_unit_id': 98622020, 'unit_collection_pt_timestamp': '2020-05-27 08:09:08.0', 'collection_point_id': 26, 'zone_id': 11}\n{'qls_unit_id': 98694520, 'unit_collection_pt_timestamp': '2020-05-27 08:09:09.0', 'collection_point_id': 105, 'zone_id': 57}\n"
    },
    {
     "output_type": "error",
     "ename": "KeyboardInterrupt",
     "evalue": "",
     "traceback": [
      "\u001b[0;31m---------------------------------------------------------------------------\u001b[0m",
      "\u001b[0;31mKeyboardInterrupt\u001b[0m                         Traceback (most recent call last)",
      "\u001b[0;32m<ipython-input-191-ca1e42932c03>\u001b[0m in \u001b[0;36m<module>\u001b[0;34m\u001b[0m\n\u001b[1;32m      4\u001b[0m         \u001b[0;31m# producer.send(topic,key = \"unit_collection_point\", value=concern)\u001b[0m\u001b[0;34m\u001b[0m\u001b[0;34m\u001b[0m\u001b[0;34m\u001b[0m\u001b[0m\n\u001b[1;32m      5\u001b[0m         \u001b[0mprint\u001b[0m\u001b[0;34m(\u001b[0m\u001b[0mconcern\u001b[0m\u001b[0;34m)\u001b[0m\u001b[0;34m\u001b[0m\u001b[0;34m\u001b[0m\u001b[0m\n\u001b[0;32m----> 6\u001b[0;31m         \u001b[0msleep\u001b[0m\u001b[0;34m(\u001b[0m\u001b[0;36m.5\u001b[0m\u001b[0;34m)\u001b[0m\u001b[0;34m\u001b[0m\u001b[0;34m\u001b[0m\u001b[0m\n\u001b[0m\u001b[1;32m      7\u001b[0m     \u001b[0;32melif\u001b[0m \u001b[0mdf\u001b[0m\u001b[0;34m.\u001b[0m\u001b[0mkey\u001b[0m\u001b[0;34m[\u001b[0m\u001b[0mi\u001b[0m\u001b[0;34m]\u001b[0m \u001b[0;34m==\u001b[0m \u001b[0;34m'unit_concern'\u001b[0m\u001b[0;34m:\u001b[0m\u001b[0;34m\u001b[0m\u001b[0;34m\u001b[0m\u001b[0m\n\u001b[1;32m      8\u001b[0m         \u001b[0mconcern\u001b[0m \u001b[0;34m=\u001b[0m \u001b[0mdict\u001b[0m\u001b[0;34m(\u001b[0m\u001b[0mzip\u001b[0m\u001b[0;34m(\u001b[0m\u001b[0mcolumns_uc\u001b[0m\u001b[0;34m,\u001b[0m \u001b[0muc\u001b[0m\u001b[0;34m.\u001b[0m\u001b[0mastype\u001b[0m\u001b[0;34m(\u001b[0m\u001b[0mconvert_dict_unitconcern\u001b[0m\u001b[0;34m)\u001b[0m\u001b[0;34m.\u001b[0m\u001b[0miloc\u001b[0m\u001b[0;34m[\u001b[0m\u001b[0mdf\u001b[0m\u001b[0;34m.\u001b[0m\u001b[0midx\u001b[0m\u001b[0;34m[\u001b[0m\u001b[0mi\u001b[0m\u001b[0;34m]\u001b[0m\u001b[0;34m,\u001b[0m\u001b[0;34m:\u001b[0m\u001b[0;34m]\u001b[0m\u001b[0;34m.\u001b[0m\u001b[0mtolist\u001b[0m\u001b[0;34m(\u001b[0m\u001b[0;34m)\u001b[0m\u001b[0;34m)\u001b[0m\u001b[0;34m)\u001b[0m \u001b[0;31m#convierto aca los tipos\u001b[0m\u001b[0;34m\u001b[0m\u001b[0;34m\u001b[0m\u001b[0m\n",
      "\u001b[0;31mKeyboardInterrupt\u001b[0m: "
     ]
    }
   ],
   "source": [
    "for i in range(len(df)):\n",
    "    if df.key[i] == 'unit_collection_point':\n",
    "        concern = dict(zip(columns_ucp, ucp.astype(convert_dict_unitcollection).iloc[df.idx[i],:].tolist())) #convierto aca los tipos\n",
    "        # producer.send(topic,key = \"unit_collection_point\", value=concern)\n",
    "        print(concern)\n",
    "        sleep(.5)\n",
    "    elif df.key[i] == 'unit_concern':\n",
    "        concern = dict(zip(columns_uc, uc.astype(convert_dict_unitconcern).iloc[df.idx[i],:].tolist())) #convierto aca los tipos\n",
    "        # producer.send(topic,key = \"unit_concern\", value=concern)\n",
    "        print(concern)\n",
    "        sleep(.5)"
   ]
  },
  {
   "cell_type": "code",
   "execution_count": 189,
   "metadata": {},
   "outputs": [
    {
     "output_type": "execute_result",
     "data": {
      "text/plain": "4502"
     },
     "metadata": {},
     "execution_count": 189
    }
   ],
   "source": [
    "df.idx[0]"
   ]
  },
  {
   "cell_type": "code",
   "execution_count": null,
   "metadata": {},
   "outputs": [],
   "source": []
  }
 ],
 "metadata": {
  "kernelspec": {
   "display_name": "Python 3.6.10 64-bit",
   "language": "python",
   "name": "python361064bit6bd2079f7b5d46118d921d664c3590fd"
  },
  "language_info": {
   "codemirror_mode": {
    "name": "ipython",
    "version": 3
   },
   "file_extension": ".py",
   "mimetype": "text/x-python",
   "name": "python",
   "nbconvert_exporter": "python",
   "pygments_lexer": "ipython3",
   "version": "3.6.10-final"
  }
 },
 "nbformat": 4,
 "nbformat_minor": 4
}