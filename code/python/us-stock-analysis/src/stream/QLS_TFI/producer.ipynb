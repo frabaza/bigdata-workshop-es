{
 "cells": [
  {
   "cell_type": "code",
   "execution_count": null,
   "metadata": {},
   "outputs": [],
   "source": [
    "from time import sleep\n",
    "import pandas as pd\n",
    "from datetime import datetime\n",
    "import json\n",
    "import sys\n",
    "import numpy as np"
   ]
  },
  {
   "cell_type": "code",
   "execution_count": null,
   "metadata": {},
   "outputs": [],
   "source": [
    "unit_concern = pd.read_csv(\"datasets/unit_concern.csv\", encoding='latin-1')\n",
    "unit_concern = unit_concern.fillna(0)\n",
    "\n",
    "unit_collection_point = pd.read_csv(\"datasets/unit_collection_point.csv\", encoding='latin-1')\n",
    "unit_collection_point = unit_collection_point.fillna(0)\n",
    "#json does not accept numpy data types, need to change from them to python data types..."
   ]
  },
  {
   "cell_type": "code",
   "execution_count": null,
   "metadata": {},
   "outputs": [],
   "source": [
    "# le cambio el nombre para escribir menos\n",
    "uc = unit_concern\n",
    "ucp = unit_collection_point"
   ]
  },
  {
   "cell_type": "code",
   "execution_count": null,
   "metadata": {},
   "outputs": [],
   "source": [
    "convert_dict_unitconcern = {\n",
    "            'qls_unit_id':int,\n",
    "            # 'unit_collection_pt_timestamp':datetime,\n",
    "            'collection_point_id':int,\n",
    "            'concern_id':int,\n",
    "            'zone_charged_id':int,\n",
    "            }\n",
    "\n",
    "convert_dict_unitcollection = {\n",
    "            'qls_unit_id':int,\n",
    "            # 'unit_collection_pt_timestamp':datetime,\n",
    "            'collection_point_id':int,\n",
    "            'zone_id':int,\n",
    "            }\n",
    "\n",
    "# unit_concern = unit_concern.astype(convert_dict_unitconcern)\n",
    "\n",
    "\n",
    "################################################\n",
    "#creo funcion convert para convertir a int los numpy"
   ]
  },
  {
   "cell_type": "code",
   "execution_count": null,
   "metadata": {},
   "outputs": [],
   "source": [
    "#encoder => numpy types are not json serializable\n",
    "\n",
    "def convert(o):\n",
    "    if isinstance(o, np.int64): return int(o)\n",
    "    elif isinstance(o, np.int32): return int(o)\n",
    "    elif isinstance(o, np.datetime64): return datetime(o)\n",
    "    elif isinstance(o, np.integer): return float(o)\n",
    "    elif isinstance(o, np.ndarray): return o.tolist()\n",
    "    "
   ]
  },
  {
   "cell_type": "code",
   "execution_count": null,
   "metadata": {},
   "outputs": [],
   "source": [
    "columns_uc = list(uc)\n",
    "columns_ucp = list(ucp)"
   ]
  },
  {
   "cell_type": "code",
   "execution_count": null,
   "metadata": {},
   "outputs": [],
   "source": [
    "dfuc = pd.DataFrame({'key':'unit_concern','timestamp':uc['unit_collection_pt_timestamp']})\n",
    "dfucp = pd.DataFrame({'key':'unit_collection_point','timestamp':ucp['unit_collection_pt_timestamp']})\n",
    "df=pd.concat([dfuc,dfucp])\n",
    "df.sort_values(by=['timestamp'], inplace=True)\n",
    "df = df.reset_index(drop=True)"
   ]
  },
  {
   "cell_type": "code",
   "execution_count": null,
   "metadata": {},
   "outputs": [],
   "source": [
    "df.head()"
   ]
  },
  {
   "cell_type": "code",
   "execution_count": null,
   "metadata": {},
   "outputs": [],
   "source": [
    "for i in range(len(df)):\n",
    "    if df.key[i] == 'unit_collection_point':\n",
    "        concern = dict(zip(columns_ucp, ucp.astype(convert_dict_unitcollection).iloc[i,:].tolist())) #convierto aca los tipos\n",
    "        print(concern)\n",
    "    elif df.key[i] == 'unit_concern':\n",
    "        concern = dict(zip(columns_uc, uc.astype(convert_dict_unitconcern).iloc[i,:].tolist())) #convierto aca los tipos\n",
    "        print(concern)\n",
    "        \n",
    "    if concern['collection_point_id'] > 50:\n",
    "        print('alto')\n",
    "#         qls_json = concern.select(from_json(F.col(\"value\").cast(\"string\"), schema, json_options).alias(\"content\"))\n",
    "#         qls = qls_json.select(\"content.*\")\n",
    "#         qls = qls.select(\"qls_unit_id\", \"unit_collection_pt_timestamp\",\"collection_point_id\")\n",
    "    elif concern['collection_point_id'] <= 50:\n",
    "        print('bajo')\n",
    "    \n",
    "       \n",
    "    sleep(.2)"
   ]
  }
 ],
 "metadata": {
  "kernelspec": {
   "display_name": "Python 3.6.10 64-bit",
   "language": "python",
   "name": "python361064bit6bd2079f7b5d46118d921d664c3590fd"
  },
  "language_info": {
   "codemirror_mode": {
    "name": "ipython",
    "version": 3
   },
   "file_extension": ".py",
   "mimetype": "text/x-python",
   "name": "python",
   "nbconvert_exporter": "python",
   "pygments_lexer": "ipython3",
   "version": "3.6.10"
  }
 },
 "nbformat": 4,
 "nbformat_minor": 4
}
